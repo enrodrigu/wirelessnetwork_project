{
 "cells": [
  {
   "cell_type": "code",
   "execution_count": 2,
   "metadata": {},
   "outputs": [],
   "source": [
    "import numpy as np\n",
    "import math\n",
    "# Module to display T/F matrix\n",
    "import matplotlib.pyplot as plt\n",
    "from matplotlib import ticker, cm\n",
    "# Module for Unit testing\n",
    "import pytest\n",
    "# Module for convolutionnal decoder\n",
    "import sk_dsp_comm.fec_conv as fec"
   ]
  },
  {
   "cell_type": "code",
   "execution_count": 5,
   "metadata": {},
   "outputs": [
    {
     "name": "stdout",
     "output_type": "stream",
     "text": [
      "[[ 0.        +0.00000000e+00j  1.41246594+1.42228929e-02j\n",
      "   1.41139197+5.68771522e-02j ...  1.41139197+5.68771522e-02j\n",
      "   1.41246594+1.42228929e-02j  1.41253754+2.65874304e-13j]\n",
      " [ 0.        +0.00000000e+00j  1.41246594-1.42228929e-02j\n",
      "   1.41139197-5.68771522e-02j ...  1.41139197-5.68771522e-02j\n",
      "   1.41246594-1.42228929e-02j  1.41253754-2.65874304e-13j]\n",
      " [ 0.        +0.00000000e+00j -1.        +0.00000000e+00j\n",
      "  -1.        +0.00000000e+00j ... -1.        +0.00000000e+00j\n",
      "  -1.        +0.00000000e+00j -1.        +0.00000000e+00j]\n",
      " ...\n",
      " [ 0.        +0.00000000e+00j  0.9486833 -9.48683298e-01j\n",
      "   0.31622777+3.16227766e-01j ... -0.9486833 -9.48683298e-01j\n",
      "  -0.31622777-9.48683298e-01j  0.31622777+9.48683298e-01j]\n",
      " [ 0.        +0.00000000e+00j  0.31622777+3.16227766e-01j\n",
      "   0.31622777+9.48683298e-01j ... -0.9486833 +9.48683298e-01j\n",
      "  -0.9486833 +3.16227766e-01j  0.9486833 -9.48683298e-01j]\n",
      " [ 0.        +0.00000000e+00j  0.9486833 -3.16227766e-01j\n",
      "   0.31622777-3.16227766e-01j ... -0.31622777-9.48683298e-01j\n",
      "   0.31622777-3.16227766e-01j  0.9486833 +9.48683298e-01j]]\n"
     ]
    }
   ],
   "source": [
    "my_data = np.genfromtxt('./tfMatrix.csv', delimiter=';')\n",
    "mat_complex = my_data[:,0::2] +1j*my_data[:,1::2]\n",
    "\n",
    "print(mat_complex.shape)"
   ]
  }
 ],
 "metadata": {
  "kernelspec": {
   "display_name": "Python 3",
   "language": "python",
   "name": "python3"
  },
  "language_info": {
   "codemirror_mode": {
    "name": "ipython",
    "version": 3
   },
   "file_extension": ".py",
   "mimetype": "text/x-python",
   "name": "python",
   "nbconvert_exporter": "python",
   "pygments_lexer": "ipython3",
   "version": "3.10.12"
  }
 },
 "nbformat": 4,
 "nbformat_minor": 2
}
